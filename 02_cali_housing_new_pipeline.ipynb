{
 "cells": [
  {
   "cell_type": "markdown",
   "metadata": {},
   "source": [
    "### Load data"
   ]
  },
  {
   "cell_type": "code",
   "execution_count": 1,
   "metadata": {},
   "outputs": [],
   "source": [
    "import os\n",
    "import pandas as pd\n",
    "import numpy as np\n",
    "from pandas import Categorical, get_dummies\n",
    "from sklearn.base import TransformerMixin, BaseEstimator\n",
    "from sklearn.pipeline import Pipeline, FeatureUnion\n",
    "from sklearn.preprocessing import Imputer, StandardScaler"
   ]
  },
  {
   "cell_type": "code",
   "execution_count": 2,
   "metadata": {},
   "outputs": [
    {
     "name": "stdout",
     "output_type": "stream",
     "text": [
      "['housing.csv', 'housing.tgz', 'README.md']\n"
     ]
    },
    {
     "data": {
      "text/html": [
       "<div>\n",
       "<style scoped>\n",
       "    .dataframe tbody tr th:only-of-type {\n",
       "        vertical-align: middle;\n",
       "    }\n",
       "\n",
       "    .dataframe tbody tr th {\n",
       "        vertical-align: top;\n",
       "    }\n",
       "\n",
       "    .dataframe thead th {\n",
       "        text-align: right;\n",
       "    }\n",
       "</style>\n",
       "<table border=\"1\" class=\"dataframe\">\n",
       "  <thead>\n",
       "    <tr style=\"text-align: right;\">\n",
       "      <th></th>\n",
       "      <th>longitude</th>\n",
       "      <th>latitude</th>\n",
       "      <th>housing_median_age</th>\n",
       "      <th>total_rooms</th>\n",
       "      <th>total_bedrooms</th>\n",
       "      <th>population</th>\n",
       "      <th>households</th>\n",
       "      <th>median_income</th>\n",
       "      <th>median_house_value</th>\n",
       "      <th>ocean_proximity</th>\n",
       "    </tr>\n",
       "  </thead>\n",
       "  <tbody>\n",
       "    <tr>\n",
       "      <th>0</th>\n",
       "      <td>-122.23</td>\n",
       "      <td>37.88</td>\n",
       "      <td>41.0</td>\n",
       "      <td>880.0</td>\n",
       "      <td>129.0</td>\n",
       "      <td>322.0</td>\n",
       "      <td>126.0</td>\n",
       "      <td>8.3252</td>\n",
       "      <td>452600.0</td>\n",
       "      <td>NEAR BAY</td>\n",
       "    </tr>\n",
       "    <tr>\n",
       "      <th>1</th>\n",
       "      <td>-122.22</td>\n",
       "      <td>37.86</td>\n",
       "      <td>21.0</td>\n",
       "      <td>7099.0</td>\n",
       "      <td>1106.0</td>\n",
       "      <td>2401.0</td>\n",
       "      <td>1138.0</td>\n",
       "      <td>8.3014</td>\n",
       "      <td>358500.0</td>\n",
       "      <td>NEAR BAY</td>\n",
       "    </tr>\n",
       "    <tr>\n",
       "      <th>2</th>\n",
       "      <td>-122.24</td>\n",
       "      <td>37.85</td>\n",
       "      <td>52.0</td>\n",
       "      <td>1467.0</td>\n",
       "      <td>190.0</td>\n",
       "      <td>496.0</td>\n",
       "      <td>177.0</td>\n",
       "      <td>7.2574</td>\n",
       "      <td>352100.0</td>\n",
       "      <td>NEAR BAY</td>\n",
       "    </tr>\n",
       "    <tr>\n",
       "      <th>3</th>\n",
       "      <td>-122.25</td>\n",
       "      <td>37.85</td>\n",
       "      <td>52.0</td>\n",
       "      <td>1274.0</td>\n",
       "      <td>235.0</td>\n",
       "      <td>558.0</td>\n",
       "      <td>219.0</td>\n",
       "      <td>5.6431</td>\n",
       "      <td>341300.0</td>\n",
       "      <td>NEAR BAY</td>\n",
       "    </tr>\n",
       "    <tr>\n",
       "      <th>4</th>\n",
       "      <td>-122.25</td>\n",
       "      <td>37.85</td>\n",
       "      <td>52.0</td>\n",
       "      <td>1627.0</td>\n",
       "      <td>280.0</td>\n",
       "      <td>565.0</td>\n",
       "      <td>259.0</td>\n",
       "      <td>3.8462</td>\n",
       "      <td>342200.0</td>\n",
       "      <td>NEAR BAY</td>\n",
       "    </tr>\n",
       "  </tbody>\n",
       "</table>\n",
       "</div>"
      ],
      "text/plain": [
       "   longitude  latitude  housing_median_age  total_rooms  total_bedrooms  \\\n",
       "0    -122.23     37.88                41.0        880.0           129.0   \n",
       "1    -122.22     37.86                21.0       7099.0          1106.0   \n",
       "2    -122.24     37.85                52.0       1467.0           190.0   \n",
       "3    -122.25     37.85                52.0       1274.0           235.0   \n",
       "4    -122.25     37.85                52.0       1627.0           280.0   \n",
       "\n",
       "   population  households  median_income  median_house_value ocean_proximity  \n",
       "0       322.0       126.0         8.3252            452600.0        NEAR BAY  \n",
       "1      2401.0      1138.0         8.3014            358500.0        NEAR BAY  \n",
       "2       496.0       177.0         7.2574            352100.0        NEAR BAY  \n",
       "3       558.0       219.0         5.6431            341300.0        NEAR BAY  \n",
       "4       565.0       259.0         3.8462            342200.0        NEAR BAY  "
      ]
     },
     "execution_count": 2,
     "metadata": {},
     "output_type": "execute_result"
    }
   ],
   "source": [
    "print(os.listdir('./datasets/housing'))\n",
    "\n",
    "housing = pd.read_csv('./datasets/housing/housing.csv')\n",
    "housing.head()"
   ]
  },
  {
   "cell_type": "markdown",
   "metadata": {},
   "source": [
    "### Split data"
   ]
  },
  {
   "cell_type": "code",
   "execution_count": 3,
   "metadata": {},
   "outputs": [],
   "source": [
    "housing[\"income_cat\"] = np.ceil(housing[\"median_income\"] / 1.5)\n",
    "#print(housing.income_cat)\n",
    "# note this code. It's so nice that series also have where!!!\n",
    "housing[\"income_cat\"].where(housing[\"income_cat\"] < 5, 5.0, inplace=True)\n",
    "# housing.income_cat.hist(bins = np.arange(6)-0.5);\n",
    "# plt.hist(housing.income_cat)\n",
    "\n",
    "from sklearn.model_selection import StratifiedShuffleSplit\n",
    "\n",
    "mysplit = StratifiedShuffleSplit(n_splits=1, test_size=0.2, random_state=42)\n",
    "# since n_splits=1 we have only one list for train_index, one list for test_index\n",
    "for train_index, test_index in mysplit.split(housing, housing['income_cat']):\n",
    "    train_data = housing.loc[train_index]\n",
    "    test_data = housing.loc[test_index]\n",
    "\n",
    "xtrain = train_data.drop(columns=['median_house_value', 'income_cat'])\n",
    "ytrain = train_data['median_house_value']\n",
    "\n",
    "xtest = test_data.drop(columns=['median_house_value', \"income_cat\"])\n",
    "ytest = test_data['median_house_value']"
   ]
  },
  {
   "cell_type": "markdown",
   "metadata": {},
   "source": [
    "### Create pipeline"
   ]
  },
  {
   "cell_type": "code",
   "execution_count": 4,
   "metadata": {},
   "outputs": [],
   "source": [
    "# Selector to just select the data\n",
    "class DataFrameSelector(BaseEstimator, TransformerMixin):\n",
    "    def __init__(self, attribute_names):\n",
    "        self.attribute_names = attribute_names\n",
    "    def fit(self, X, y=None):\n",
    "        return self\n",
    "    def transform(self, X):\n",
    "        return X[self.attribute_names].values\n",
    "\n",
    "# column numbers of some attributes\n",
    "rooms_ix, bedrooms_ix, population_ix, household_ix = 3, 4, 5, 6    \n",
    "class CombinedAttributesAdder(BaseEstimator, TransformerMixin):\n",
    "    def __init__(self, add_bedrooms_per_room = True): # no *args or **kargs\n",
    "        self.add_bedrooms_per_room = add_bedrooms_per_room\n",
    "        \n",
    "    def fit(self, X, y=None):\n",
    "        return self # nothing else to do\n",
    "    \n",
    "    def transform(self, X, y=None):\n",
    "        # 2 features are always added\n",
    "        rooms_per_household = X[:, rooms_ix] / X[:, household_ix]\n",
    "        population_per_household = X[:, population_ix] / X[:, household_ix]\n",
    "        # one feature can be added or not based on the boolean parameter\n",
    "        if self.add_bedrooms_per_room:\n",
    "            bedrooms_per_room = X[:, bedrooms_ix] / X[:, rooms_ix]\n",
    "            # np.c_ Translates slice objects to concatenation along the second axis.\n",
    "            return np.c_[X, rooms_per_household, population_per_household, bedrooms_per_room]\n",
    "        \n",
    "        else:\n",
    "            #print(X.shape)\n",
    "            #print(rooms_per_household.shape)\n",
    "            #print(np.c_[X, rooms_per_household, population_per_household].shape)\n",
    "            return np.c_[X, rooms_per_household, population_per_household]\n",
    "\n",
    "        \n",
    "class CategoricalWarrior(BaseEstimator, TransformerMixin):\n",
    "    \"\"\"One hot encoder for all categorical features\"\"\"\n",
    "    def __init__(self, attribute_names):\n",
    "        # initiate attribute names from input column names\n",
    "        self.attribute_names = attribute_names\n",
    "\n",
    "    def fit(self, X, y=None):\n",
    "        \"\"\"\n",
    "        fit function first creates a dictionary.\n",
    "        Each element has: key word=categorical column name, value=unique value in the categorical column\n",
    "        then fit function creates a new attribute call categoricals, which equals the dictionary\n",
    "        \"\"\"\n",
    "        cats = {}\n",
    "        for column in self.attribute_names:\n",
    "            cats[column] = X[column].unique().tolist()\n",
    "        self.categoricals = cats\n",
    "        return self\n",
    "\n",
    "    def transform(self, X, y=None):\n",
    "        \"\"\"\n",
    "        transform turns first convert the categorical columns into categorical data type\n",
    "        with given categories (defined from function \"fit\" above)\n",
    "        Then it uses function get_dummies to convert to one hot encoded data\n",
    "        \"\"\"\n",
    "        df = X.copy()\n",
    "        for column in self.attribute_names:\n",
    "            df[column] = Categorical(df[column], categories=self.categoricals[column])\n",
    "        new_df = get_dummies(df, drop_first=False)\n",
    "        # in case we need them later\n",
    "        self.columns = new_df.columns\n",
    "        return new_df"
   ]
  },
  {
   "cell_type": "code",
   "execution_count": 5,
   "metadata": {},
   "outputs": [],
   "source": [
    "num_att = list(xtrain.drop(columns=[\"ocean_proximity\"]))\n",
    "cat_att = [\"ocean_proximity\"]\n",
    "\n",
    "num_pipeline = Pipeline([(\"selector\", DataFrameSelector(num_att)), \n",
    "                         (\"imputer\", Imputer(strategy=\"median\")),\n",
    "                        (\"add_attributes\", CombinedAttributesAdder()),\n",
    "                        (\"std_scaler\", StandardScaler())])\n",
    "\n",
    "cat_pipeline = Pipeline([(\"cat_maker\", CategoricalWarrior(cat_att))])\n",
    "\n",
    "full_pipeline = FeatureUnion(transformer_list=[(\"num_pipeline\", num_pipeline),\n",
    "                                              (\"cat_pipeline\", cat_pipeline)])"
   ]
  },
  {
   "cell_type": "code",
   "execution_count": 6,
   "metadata": {},
   "outputs": [],
   "source": [
    "xtrain_transformed = full_pipeline.fit_transform(xtrain)\n",
    "xtest_transformed = full_pipeline.transform(xtest)"
   ]
  },
  {
   "cell_type": "code",
   "execution_count": 7,
   "metadata": {},
   "outputs": [
    {
     "data": {
      "text/plain": [
       "(16512, 24)"
      ]
     },
     "execution_count": 7,
     "metadata": {},
     "output_type": "execute_result"
    }
   ],
   "source": [
    "xtrain_transformed.shape"
   ]
  },
  {
   "cell_type": "code",
   "execution_count": 8,
   "metadata": {},
   "outputs": [
    {
     "data": {
      "text/plain": [
       "(4128, 24)"
      ]
     },
     "execution_count": 8,
     "metadata": {},
     "output_type": "execute_result"
    }
   ],
   "source": [
    "xtest_transformed.shape"
   ]
  },
  {
   "cell_type": "code",
   "execution_count": 10,
   "metadata": {},
   "outputs": [
    {
     "data": {
      "text/plain": [
       "array([[-1.15604281e+00,  7.71949616e-01,  7.43330892e-01,\n",
       "        -4.93233934e-01, -4.45438207e-01, -6.36211407e-01,\n",
       "        -4.20698422e-01, -6.14937444e-01, -3.12054519e-01,\n",
       "        -8.64987054e-02,  1.55317530e-01, -1.21890000e+02,\n",
       "         3.72900000e+01,  3.80000000e+01,  1.56800000e+03,\n",
       "         3.51000000e+02,  7.10000000e+02,  3.39000000e+02,\n",
       "         2.70420000e+00,  1.00000000e+00,  0.00000000e+00,\n",
       "         0.00000000e+00,  0.00000000e+00,  0.00000000e+00],\n",
       "       [-1.17602483e+00,  6.59694795e-01, -1.16531720e+00,\n",
       "        -9.08966554e-01, -1.03692780e+00, -9.98331347e-01,\n",
       "        -1.02222705e+00,  1.33645936e+00,  2.17683377e-01,\n",
       "        -3.35339129e-02, -8.36289016e-01, -1.21930000e+02,\n",
       "         3.70500000e+01,  1.40000000e+01,  6.79000000e+02,\n",
       "         1.08000000e+02,  3.06000000e+02,  1.13000000e+02,\n",
       "         6.42140000e+00,  1.00000000e+00,  0.00000000e+00,\n",
       "         0.00000000e+00,  0.00000000e+00,  0.00000000e+00],\n",
       "       [ 1.18684903e+00, -1.34218285e+00,  1.86641864e-01,\n",
       "        -3.13659889e-01, -1.53344583e-01, -4.33639362e-01,\n",
       "        -9.33177983e-02, -5.32045602e-01, -4.65315160e-01,\n",
       "        -9.24049941e-02,  4.22200402e-01, -1.17200000e+02,\n",
       "         3.27700000e+01,  3.10000000e+01,  1.95200000e+03,\n",
       "         4.71000000e+02,  9.36000000e+02,  4.62000000e+02,\n",
       "         2.86210000e+00,  0.00000000e+00,  1.00000000e+00,\n",
       "         0.00000000e+00,  0.00000000e+00,  0.00000000e+00],\n",
       "       [-1.70676728e-02,  3.13575763e-01, -2.90520160e-01,\n",
       "        -3.62762167e-01, -3.96755937e-01,  3.60409561e-02,\n",
       "        -3.83435587e-01, -1.04556555e+00, -7.96612428e-02,\n",
       "         8.97356110e-02, -1.96453142e-01, -1.19610000e+02,\n",
       "         3.63100000e+01,  2.50000000e+01,  1.84700000e+03,\n",
       "         3.71000000e+02,  1.46000000e+03,  3.53000000e+02,\n",
       "         1.88390000e+00,  0.00000000e+00,  0.00000000e+00,\n",
       "         1.00000000e+00,  0.00000000e+00,  0.00000000e+00],\n",
       "       [ 4.92473835e-01, -6.59299356e-01, -9.26736191e-01,\n",
       "         1.85619316e+00,  2.41221109e+00,  2.72415407e+00,\n",
       "         2.57097492e+00, -4.41436787e-01, -3.57833832e-01,\n",
       "        -4.19444921e-03,  2.69927696e-01, -1.18590000e+02,\n",
       "         3.42300000e+01,  1.70000000e+01,  6.59200000e+03,\n",
       "         1.52500000e+03,  4.45900000e+03,  1.46300000e+03,\n",
       "         3.03470000e+00,  1.00000000e+00,  0.00000000e+00,\n",
       "         0.00000000e+00,  0.00000000e+00,  0.00000000e+00]])"
      ]
     },
     "execution_count": 10,
     "metadata": {},
     "output_type": "execute_result"
    }
   ],
   "source": []
  },
  {
   "cell_type": "code",
   "execution_count": null,
   "metadata": {},
   "outputs": [],
   "source": []
  }
 ],
 "metadata": {
  "kernelspec": {
   "display_name": "Python 3",
   "language": "python",
   "name": "python3"
  },
  "language_info": {
   "codemirror_mode": {
    "name": "ipython",
    "version": 3
   },
   "file_extension": ".py",
   "mimetype": "text/x-python",
   "name": "python",
   "nbconvert_exporter": "python",
   "pygments_lexer": "ipython3",
   "version": "3.6.8"
  }
 },
 "nbformat": 4,
 "nbformat_minor": 2
}
